{
 "cells": [
  {
   "cell_type": "code",
   "execution_count": 1,
   "metadata": {},
   "outputs": [],
   "source": [
    "import numpy as np\n",
    "import scipy.stats as stats"
   ]
  },
  {
   "cell_type": "code",
   "execution_count": 2,
   "metadata": {},
   "outputs": [],
   "source": [
    "name, surname = 'Артем', 'Плохов'\n",
    "a, b = len(name), len(surname)\n",
    "m = a*b\n",
    "s = a+b\n",
    "c, d = 20, 30\n",
    "trust_level = 0.95"
   ]
  },
  {
   "cell_type": "code",
   "execution_count": 3,
   "metadata": {},
   "outputs": [],
   "source": [
    "def conf_interval(x, std, quantile, unknown=False, parameter='mean'):\n",
    "    n = len(x)\n",
    "    if parameter == 'mean':\n",
    "        quantile = 1 - quantile\n",
    "        if unknown:\n",
    "            t = stats.t.ppf(1-quantile/2, n-1)\n",
    "        else:\n",
    "            t = stats.norm.ppf(1-quantile/2, loc = 0, scale = 1)\n",
    "        l = x.mean() - t*std/n**0.5\n",
    "        r = x.mean() + t*std/n**0.5\n",
    "        return (l, r)\n",
    "    t = (stats.chi2.ppf((1-quantile)/2, n-1),stats.chi2.ppf((1+quantile)/2, n-1))\n",
    "    s = x.std(ddof=1)\n",
    "    if parameter == 'var':\n",
    "        l = ((n-1)*(s**2))/t[1]\n",
    "        r = ((n-1)*(s**2))/t[0]\n",
    "        return (l, r)\n",
    "    elif parameter == 'std':\n",
    "        l = (((n-1)**0.5)*s)/((t[1])**0.5)\n",
    "        r = (((n-1)**0.5)*s)/((t[0])**0.5)\n",
    "        return (l, r)\n",
    "    else:\n",
    "        return None"
   ]
  },
  {
   "cell_type": "code",
   "execution_count": 4,
   "metadata": {},
   "outputs": [
    {
     "name": "stdout",
     "output_type": "stream",
     "text": [
      "Name: Артем Плохов\n",
      "a = 5, b = 6, \n",
      "expectation = 30, std = 11\n",
      "Interval: [20, 30]\n",
      "Probability (general): 0.31834892955655103\n"
     ]
    }
   ],
   "source": [
    "pg = stats.norm.cdf(d, m, s) - stats.norm.cdf(c, m, s)\n",
    "print('Name: %s %s' % (name, surname))\n",
    "print('a = %i, b = %i, \\nexpectation = %i, std = %i' % (a, b, m, s))\n",
    "print('Interval: [%s, %s]' % (str(c), str(d)))\n",
    "print('Probability (general): %s' % str(pg))"
   ]
  },
  {
   "cell_type": "code",
   "execution_count": 5,
   "metadata": {},
   "outputs": [],
   "source": [
    "x = np.random.normal(m, s, size = 100)\n",
    "y = np.random.choice(x, size=15, replace=False)\n",
    "z = np.random.choice(x, size=15, replace=False)"
   ]
  },
  {
   "cell_type": "code",
   "execution_count": 6,
   "metadata": {},
   "outputs": [
    {
     "name": "stdout",
     "output_type": "stream",
     "text": [
      "Probability (0): 0.297401\n",
      "P_general - P_0 = 0.020948\n",
      "Probability (1): 0.352056\n",
      "P_general - P_1 = -0.033708\n",
      "Probability (2): 0.298040\n",
      "P_general - P_2 = 0.020309\n"
     ]
    }
   ],
   "source": [
    "for i in enumerate((x, y, z)):\n",
    "    p = stats.norm.cdf(d, i[1].mean(), i[1].std()) - stats.norm.cdf(c, i[1].mean(), i[1].std())\n",
    "    print('Probability (%i): %f' % (i[0], p))\n",
    "    print('P_general - P_%i = %f' % (i[0], pg-p))"
   ]
  },
  {
   "cell_type": "code",
   "execution_count": 7,
   "metadata": {},
   "outputs": [
    {
     "name": "stdout",
     "output_type": "stream",
     "text": [
      "Sample 1:\n",
      "Mean: 26.065400\n",
      "Variance: 127.245435\n",
      "Std: 11.280312\n",
      "e_m: 3.934600\n",
      "e_std: -0.280312\n",
      "\n",
      "\n",
      "Sample 2:\n",
      "Mean: 32.424475\n",
      "Variance: 105.782008\n",
      "Std: 10.285038\n",
      "e_m: -2.424475\n",
      "e_std: 0.714962\n",
      "\n",
      "\n"
     ]
    }
   ],
   "source": [
    "for i in enumerate((y, z)):\n",
    "    mean = i[1].mean()\n",
    "    var = i[1].var(ddof=1)\n",
    "    std = i[1].std(ddof=1)\n",
    "    e_m = m - mean\n",
    "    e_std = s - std\n",
    "    print('Sample %i:' % ((i[0])+1))\n",
    "    print('Mean: %f' % mean)\n",
    "    print('Variance: %f' % var)\n",
    "    print('Std: %f' % std)\n",
    "    print('e_m: %f' % e_m)\n",
    "    print('e_std: %f' % e_std)\n",
    "    print('\\n')"
   ]
  },
  {
   "cell_type": "code",
   "execution_count": 8,
   "metadata": {},
   "outputs": [
    {
     "name": "stdout",
     "output_type": "stream",
     "text": [
      "Trust level: 0.950000\n",
      "Сonfidence intervals:\n",
      "Expectation (known std): (28.294905794891214, 32.606826560879334)\n",
      "Expectation (unknown std): (28.268227531225723, 32.63350482454482)\n",
      "Variance: (107.90167631972508, 188.8869113547958)\n",
      "Std: (10.387573167960122, 13.74361347516714)\n"
     ]
    }
   ],
   "source": [
    "print('Trust level: %f' % trust_level)\n",
    "print('Сonfidence intervals:')\n",
    "print('Expectation (known std): %s' % str(conf_interval(x, s, trust_level, unknown=False, parameter = 'mean')))\n",
    "print('Expectation (unknown std): %s' % str(conf_interval(x, s, trust_level, unknown=True, parameter = 'mean')))\n",
    "print('Variance: %s' % str(conf_interval(x, s, trust_level, unknown=True, parameter = 'var')))\n",
    "print('Std: %s' % str(conf_interval(x, s, trust_level, unknown=True, parameter = 'std')))"
   ]
  },
  {
   "cell_type": "code",
   "execution_count": null,
   "metadata": {},
   "outputs": [],
   "source": []
  }
 ],
 "metadata": {
  "kernelspec": {
   "display_name": "Python 3",
   "language": "python",
   "name": "python3"
  },
  "language_info": {
   "codemirror_mode": {
    "name": "ipython",
    "version": 3
   },
   "file_extension": ".py",
   "mimetype": "text/x-python",
   "name": "python",
   "nbconvert_exporter": "python",
   "pygments_lexer": "ipython3",
   "version": "3.7.0"
  }
 },
 "nbformat": 4,
 "nbformat_minor": 2
}
